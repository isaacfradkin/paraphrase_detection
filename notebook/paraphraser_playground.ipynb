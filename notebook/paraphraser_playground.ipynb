{
 "cells": [
  {
   "cell_type": "markdown",
   "metadata": {},
   "source": [
    "# PARAPHRASER PLAY GROUND\n",
    "\n",
    "This notebook used to test the paraphraser and play with different parameters."
   ]
  },
  {
   "cell_type": "code",
   "execution_count": 11,
   "metadata": {},
   "outputs": [],
   "source": [
    "import sys\n",
    "sys.path.append('../')\n",
    "\n",
    "from src.utils import load_config\n",
    "\n",
    "from src.paraphrase_generation import generate_paraphrase_from_model_name, ParaphraseGenerator\n",
    "\n",
    "config = load_config('../config.yaml')"
   ]
  },
  {
   "cell_type": "code",
   "execution_count": 13,
   "metadata": {},
   "outputs": [
    {
     "name": "stdout",
     "output_type": "stream",
     "text": [
      "available models with parot  ['Vamsi/T5_Paraphrase_Paws', 'umarin/chatgpt_paraphraser_on_T5_base', 'prithivida/parrot_paraphraser_on_T5', 'stanford-oval/paraphraser-bart-large']\n",
      "available models with Quality control method  ['ibm/qcpg-sentences', 'ibm/qcpg-captions', 'ibm/qcpg-questions']\n"
     ]
    }
   ],
   "source": [
    "print(\"available models with parot \", config['paraphrase_dataset']['paraphrase_models'])\n",
    "print(\"available models with Quality control method \", config['paraphrase_dataset']['quality_control_models'])"
   ]
  },
  {
   "cell_type": "code",
   "execution_count": 5,
   "metadata": {},
   "outputs": [],
   "source": [
    "## sample of text\n",
    "text = \"The quick brown fox jumps over the lazy dog.\""
   ]
  },
  {
   "cell_type": "markdown",
   "metadata": {},
   "source": [
    "## TEST PARAPHRASER ibm/qcpg-sentences"
   ]
  },
  {
   "cell_type": "code",
   "execution_count": 8,
   "metadata": {},
   "outputs": [
    {
     "name": "stderr",
     "output_type": "stream",
     "text": [
      "Special tokens have been added in the vocabulary, make sure the associated word embeddings are fine-tuned or trained.\n"
     ]
    },
    {
     "name": "stdout",
     "output_type": "stream",
     "text": [
      "original text: The quick brown fox jumps over the lazy dog.\n",
      "paraphrase: Quick Brown Fox is going to jump over a lazy dog.\n"
     ]
    }
   ],
   "source": [
    "quality_control_kwargs = {\n",
    "            \"lexical\": 0.3,\n",
    "            \"syntactic\": 0.5,\n",
    "            \"semantic\": 0.8,\n",
    "        }\n",
    "model_name = \"ibm/qcpg-sentences\"\n",
    "\n",
    "## generate paraphrase\n",
    "\n",
    "generator = ParaphraseGenerator(model_name=model_name, quality_control_kwargs=quality_control_kwargs)\n",
    "\n",
    "paraphrase = generator.paraphrase(text)\n",
    "\n",
    "print(f\"original text: {text}\")\n",
    "print(f\"paraphrase: {paraphrase}\")"
   ]
  }
 ],
 "metadata": {
  "kernelspec": {
   "display_name": "paraphrase",
   "language": "python",
   "name": "python3"
  },
  "language_info": {
   "codemirror_mode": {
    "name": "ipython",
    "version": 3
   },
   "file_extension": ".py",
   "mimetype": "text/x-python",
   "name": "python",
   "nbconvert_exporter": "python",
   "pygments_lexer": "ipython3",
   "version": "3.9.18"
  },
  "orig_nbformat": 4
 },
 "nbformat": 4,
 "nbformat_minor": 2
}

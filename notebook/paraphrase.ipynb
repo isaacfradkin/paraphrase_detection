{
 "cells": [
  {
   "cell_type": "code",
   "execution_count": 1,
   "metadata": {},
   "outputs": [],
   "source": [
    "import pandas as pd\n",
    "from parrot import Parrot\n",
    "import torch\n",
    "import warnings"
   ]
  },
  {
   "cell_type": "code",
   "execution_count": 3,
   "metadata": {},
   "outputs": [
    {
     "name": "stdout",
     "output_type": "stream",
     "text": [
      "length of data:  52665\n"
     ]
    },
    {
     "data": {
      "text/html": [
       "<div>\n",
       "<style scoped>\n",
       "    .dataframe tbody tr th:only-of-type {\n",
       "        vertical-align: middle;\n",
       "    }\n",
       "\n",
       "    .dataframe tbody tr th {\n",
       "        vertical-align: top;\n",
       "    }\n",
       "\n",
       "    .dataframe thead th {\n",
       "        text-align: right;\n",
       "    }\n",
       "</style>\n",
       "<table border=\"1\" class=\"dataframe\">\n",
       "  <thead>\n",
       "    <tr style=\"text-align: right;\">\n",
       "      <th></th>\n",
       "      <th>storyid</th>\n",
       "      <th>storytitle</th>\n",
       "      <th>sentence1</th>\n",
       "      <th>sentence2</th>\n",
       "      <th>sentence3</th>\n",
       "      <th>sentence4</th>\n",
       "      <th>sentence5</th>\n",
       "    </tr>\n",
       "  </thead>\n",
       "  <tbody>\n",
       "    <tr>\n",
       "      <th>0</th>\n",
       "      <td>8bbe6d11-1e2e-413c-bf81-eaea05f4f1bd</td>\n",
       "      <td>David Drops the Weight</td>\n",
       "      <td>David noticed he had put on a lot of weight re...</td>\n",
       "      <td>He examined his habits to try and figure out t...</td>\n",
       "      <td>He realized he'd been eating too much fast foo...</td>\n",
       "      <td>He stopped going to burger places and started ...</td>\n",
       "      <td>After a few weeks, he started to feel much bet...</td>\n",
       "    </tr>\n",
       "    <tr>\n",
       "      <th>1</th>\n",
       "      <td>0beabab2-fb49-460e-a6e6-f35a202e3348</td>\n",
       "      <td>Frustration</td>\n",
       "      <td>Tom had a very short temper.</td>\n",
       "      <td>One day a guest made him very angry.</td>\n",
       "      <td>He punched a hole in the wall of his house.</td>\n",
       "      <td>Tom's guest became afraid and left quickly.</td>\n",
       "      <td>Tom sat on his couch filled with regret about ...</td>\n",
       "    </tr>\n",
       "    <tr>\n",
       "      <th>2</th>\n",
       "      <td>87da1a22-df0b-410c-b186-439700b70ba6</td>\n",
       "      <td>Marcus Buys Khakis</td>\n",
       "      <td>Marcus needed clothing for a business casual e...</td>\n",
       "      <td>All of his clothes were either too formal or t...</td>\n",
       "      <td>He decided to buy a pair of khakis.</td>\n",
       "      <td>The pair he bought fit him perfectly.</td>\n",
       "      <td>Marcus was happy to have the right clothes for...</td>\n",
       "    </tr>\n",
       "    <tr>\n",
       "      <th>3</th>\n",
       "      <td>2d16bcd6-692a-4fc0-8e7c-4a6f81d9efa9</td>\n",
       "      <td>Different Opinions</td>\n",
       "      <td>Bobby thought Bill should buy a trailer and ha...</td>\n",
       "      <td>Bill thought a truck would be better for what ...</td>\n",
       "      <td>Bobby pointed out two vehicles were much more ...</td>\n",
       "      <td>Bill was set in his ways with conventional thi...</td>\n",
       "      <td>He ended up buying the truck he wanted despite...</td>\n",
       "    </tr>\n",
       "    <tr>\n",
       "      <th>4</th>\n",
       "      <td>c71bb23b-7731-4233-8298-76ba6886cee1</td>\n",
       "      <td>Overcoming shortcomings</td>\n",
       "      <td>John was a pastor with a very bad memory.</td>\n",
       "      <td>He tried to memorize his sermons many days in ...</td>\n",
       "      <td>He decided to learn to sing to overcome his ha...</td>\n",
       "      <td>He then made all his sermons into music and sa...</td>\n",
       "      <td>His congregation was delighted and so was he.</td>\n",
       "    </tr>\n",
       "  </tbody>\n",
       "</table>\n",
       "</div>"
      ],
      "text/plain": [
       "                                storyid               storytitle  \\\n",
       "0  8bbe6d11-1e2e-413c-bf81-eaea05f4f1bd   David Drops the Weight   \n",
       "1  0beabab2-fb49-460e-a6e6-f35a202e3348              Frustration   \n",
       "2  87da1a22-df0b-410c-b186-439700b70ba6       Marcus Buys Khakis   \n",
       "3  2d16bcd6-692a-4fc0-8e7c-4a6f81d9efa9       Different Opinions   \n",
       "4  c71bb23b-7731-4233-8298-76ba6886cee1  Overcoming shortcomings   \n",
       "\n",
       "                                           sentence1  \\\n",
       "0  David noticed he had put on a lot of weight re...   \n",
       "1                       Tom had a very short temper.   \n",
       "2  Marcus needed clothing for a business casual e...   \n",
       "3  Bobby thought Bill should buy a trailer and ha...   \n",
       "4          John was a pastor with a very bad memory.   \n",
       "\n",
       "                                           sentence2  \\\n",
       "0  He examined his habits to try and figure out t...   \n",
       "1               One day a guest made him very angry.   \n",
       "2  All of his clothes were either too formal or t...   \n",
       "3  Bill thought a truck would be better for what ...   \n",
       "4  He tried to memorize his sermons many days in ...   \n",
       "\n",
       "                                           sentence3  \\\n",
       "0  He realized he'd been eating too much fast foo...   \n",
       "1        He punched a hole in the wall of his house.   \n",
       "2                He decided to buy a pair of khakis.   \n",
       "3  Bobby pointed out two vehicles were much more ...   \n",
       "4  He decided to learn to sing to overcome his ha...   \n",
       "\n",
       "                                           sentence4  \\\n",
       "0  He stopped going to burger places and started ...   \n",
       "1        Tom's guest became afraid and left quickly.   \n",
       "2              The pair he bought fit him perfectly.   \n",
       "3  Bill was set in his ways with conventional thi...   \n",
       "4  He then made all his sermons into music and sa...   \n",
       "\n",
       "                                           sentence5  \n",
       "0  After a few weeks, he started to feel much bet...  \n",
       "1  Tom sat on his couch filled with regret about ...  \n",
       "2  Marcus was happy to have the right clothes for...  \n",
       "3  He ended up buying the truck he wanted despite...  \n",
       "4      His congregation was delighted and so was he.  "
      ]
     },
     "execution_count": 3,
     "metadata": {},
     "output_type": "execute_result"
    }
   ],
   "source": [
    "# load datset\n",
    "\n",
    "data = pd.read_csv(\"/home/robin/Code_repo/psycholinguistic2125/paraphrase_detection/data/ROCStories/ROCStories_winter2017.csv\")\n",
    "print(\"length of data: \", len(data))\n",
    "data.head()"
   ]
  },
  {
   "cell_type": "code",
   "execution_count": null,
   "metadata": {},
   "outputs": [],
   "source": [
    "parrot = Parrot(model_tag=\"prithivida/parrot_paraphraser_on_T5\")"
   ]
  },
  {
   "cell_type": "markdown",
   "metadata": {},
   "source": [
    "Adequacy (Is the meaning preserved adequately?)\n",
    "\n",
    "Fluency (Is the paraphrase fluent English?)\n",
    "\n",
    "Diversity (Lexical / Phrasal / Syntactical) (How much has the paraphrase changed the original sentence?)\n",
    "\n"
   ]
  },
  {
   "cell_type": "code",
   "execution_count": 17,
   "metadata": {},
   "outputs": [
    {
     "name": "stdout",
     "output_type": "stream",
     "text": [
      "----------------------------------------------------------------------------------------------------\n",
      "Input_phrase:  He examined his habits to try and figure out the reason.\n",
      "----------------------------------------------------------------------------------------------------\n",
      "('he took a look at his habits to try to figure out the cause', 30)\n",
      "('he took a look at his habits to try to figure out the reason', 25)\n",
      "('he took a look at his habits to try and figure out the reason', 22)\n",
      "('he examined his habits to try to figure out the reason', 16)\n",
      "('he examined his habits to try and figure out the reason', 13)\n",
      "----------------------------------------------------------------------------------------------------\n",
      "Input_phrase:  One day a guest made him very angry.\n",
      "----------------------------------------------------------------------------------------------------\n",
      "('a guest made him angry one day', 29)\n",
      "('when he was a guest one day he was angry', 25)\n",
      "('when he was a guest he became very angry', 22)\n",
      "('one day a guest made him angry', 18)\n",
      "('one day the guest made him very angry', 16)\n",
      "('one day a guest made him very angry', 13)\n"
     ]
    }
   ],
   "source": [
    "phrases = data[\"sentence2\"].values.tolist()[:2]\n",
    "for phrase in phrases:\n",
    "  print(\"-\"*100)\n",
    "  print(\"Input_phrase: \", phrase)\n",
    "  print(\"-\"*100)\n",
    "  para_phrases = parrot.augment(input_phrase=phrase,\n",
    "                                use_gpu=True,\n",
    "                               diversity_ranker=\"levenshtein\", #levenshtein #diff\n",
    "                               do_diverse=9, \n",
    "                               max_return_phrases = 10, \n",
    "                               adequacy_threshold = 0.80, \n",
    "                               fluency_threshold = 0.90)\n",
    "  \n",
    "  for para_phrase in para_phrases:\n",
    "   print(para_phrase)"
   ]
  },
  {
   "cell_type": "markdown",
   "metadata": {},
   "source": [
    "## Quality Controlled Paraphrase Generation (ACL 2022)\n",
    "\n",
    "source: https://github.com/IBM/quality-controlled-paraphrase-generation\n",
    "\n",
    "```\n",
    "@inproceedings{bandel-etal-2022-quality,\n",
    "    title = \"Quality Controlled Paraphrase Generation\",\n",
    "    author = \"Bandel, Elron  and\n",
    "      Aharonov, Ranit  and\n",
    "      Shmueli-Scheuer, Michal  and\n",
    "      Shnayderman, Ilya  and\n",
    "      Slonim, Noam  and\n",
    "      Ein-Dor, Liat\",\n",
    "    booktitle = \"Proceedings of the 60th Annual Meeting of the Association for Computational Linguistics (Volume 1: Long Papers)\",\n",
    "    month = may,\n",
    "    year = \"2022\",\n",
    "    address = \"Dublin, Ireland\",\n",
    "    publisher = \"Association for Computational Linguistics\",\n",
    "    url = \"https://aclanthology.org/2022.acl-long.45\",\n",
    "}\n",
    "```"
   ]
  },
  {
   "cell_type": "code",
   "execution_count": 18,
   "metadata": {},
   "outputs": [],
   "source": [
    "## \n",
    "\n",
    "from transformers import pipeline\n",
    "\n",
    "class QualityControlPipeline:\n",
    "    \n",
    "    def __init__(self, type):\n",
    "        assert type in ['captions', 'questions', 'sentences']\n",
    "        self.pipe = pipeline('text2text-generation', model=f'ibm/qcpg-{type}')\n",
    "        self.ranges = {\n",
    "            'captions': {'lex': [0, 90], 'syn': [0, 80], 'sem': [0, 95]},\n",
    "            'sentences': {'lex': [0, 100], 'syn': [0, 80], 'sem': [0, 95]},\n",
    "            'questions': {'lex': [0, 90], 'syn': [0, 75], 'sem': [0, 95]}\n",
    "        }[type]\n",
    "\n",
    "    def __call__(self, text, lexical, syntactic, semantic, **kwargs):\n",
    "        assert all([0 <= val <= 1 for val in [lexical, syntactic, semantic]]), \\\n",
    "                 f' control values must be between 0 and 1, got {lexical}, {syntactic}, {semantic}'\n",
    "        names = ['semantic_sim', 'lexical_div', 'syntactic_div']\n",
    "        control = [int(5 * round(val * 100 / 5)) for val in [semantic, lexical, syntactic]]\n",
    "        control ={name: max(min(val , self.ranges[name[:3]][1]), self.ranges[name[:3]][0]) for name, val in zip(names, control)}\n",
    "        control = [f'COND_{name.upper()}_{control[name]}' for name in names]\n",
    "        assert all(cond in self.pipe.tokenizer.additional_special_tokens for cond in control)\n",
    "        text = ' '.join(control) + text if isinstance(text, str) else [' '.join(control) for t in text]\n",
    "        return self.pipe(text, **kwargs)"
   ]
  },
  {
   "cell_type": "code",
   "execution_count": 19,
   "metadata": {},
   "outputs": [
    {
     "name": "stderr",
     "output_type": "stream",
     "text": [
      "Downloading (…)lve/main/config.json: 100%|██████████| 1.50k/1.50k [00:00<00:00, 2.11MB/s]\n",
      "Downloading pytorch_model.bin: 100%|██████████| 892M/892M [01:18<00:00, 11.4MB/s] \n",
      "Downloading (…)okenizer_config.json: 100%|██████████| 1.69k/1.69k [00:00<00:00, 2.95MB/s]\n",
      "Downloading spiece.model: 100%|██████████| 792k/792k [00:00<00:00, 1.70MB/s]\n",
      "Downloading (…)/main/tokenizer.json: 100%|██████████| 1.40M/1.40M [00:00<00:00, 7.30MB/s]\n",
      "Downloading (…)in/added_tokens.json: 100%|██████████| 1.79k/1.79k [00:00<00:00, 2.56MB/s]\n",
      "Downloading (…)cial_tokens_map.json: 100%|██████████| 1.48k/1.48k [00:00<00:00, 3.21MB/s]\n",
      "Special tokens have been added in the vocabulary, make sure the associated word embeddings are fine-tuned or trained.\n"
     ]
    }
   ],
   "source": [
    "model = QualityControlPipeline('sentences')"
   ]
  },
  {
   "cell_type": "code",
   "execution_count": 22,
   "metadata": {},
   "outputs": [
    {
     "name": "stdout",
     "output_type": "stream",
     "text": [
      "----------------------------------------------------------------------------------------------------\n",
      "Input_phrase:  He examined his habits to try and figure out the reason.\n",
      "----------------------------------------------------------------------------------------------------\n",
      "{'generated_text': \"He's examined his behavior and he's looking for a reason.\"}\n",
      "----------------------------------------------------------------------------------------------------\n",
      "Input_phrase:  One day a guest made him very angry.\n",
      "----------------------------------------------------------------------------------------------------\n",
      "{'generated_text': 'A guest of his own made him very angry one day.'}\n"
     ]
    }
   ],
   "source": [
    "for phrase in phrases:\n",
    "  print(\"-\"*100)\n",
    "  print(\"Input_phrase: \", phrase)\n",
    "  print(\"-\"*100)\n",
    "  para_phrases = model(phrase, lexical=0.3, syntactic=0.5, semantic=0.8)\n",
    "  \n",
    "  for para_phrase in para_phrases:\n",
    "   print(para_phrase)\n",
    "\n"
   ]
  },
  {
   "cell_type": "markdown",
   "metadata": {},
   "source": [
    "## chatGPT paraphraser\n",
    "\n",
    "source: https://huggingface.co/humarin/chatgpt_paraphraser_on_T5_base\n",
    "\n",
    "@inproceedings{chatgpt_paraphraser,\n",
    "  author={Vladimir Vorobev, Maxim Kuznetsov},\n",
    "  title={A paraphrasing model based on ChatGPT paraphrases},\n",
    "  year={2023}\n",
    "}"
   ]
  },
  {
   "cell_type": "code",
   "execution_count": 27,
   "metadata": {},
   "outputs": [],
   "source": [
    "from transformers import AutoTokenizer, AutoModelForSeq2SeqLM\n",
    "\n",
    "device = \"cuda\"\n",
    "\n",
    "tokenizer = AutoTokenizer.from_pretrained(\"humarin/chatgpt_paraphraser_on_T5_base\")\n",
    "model = AutoModelForSeq2SeqLM.from_pretrained(\"humarin/chatgpt_paraphraser_on_T5_base\").to(device)\n",
    "\n",
    "def paraphrase(\n",
    "    question,\n",
    "    num_beams=5,\n",
    "    num_beam_groups=5,\n",
    "    num_return_sequences=5,\n",
    "    repetition_penalty=10.0,\n",
    "    diversity_penalty=3.0,\n",
    "    no_repeat_ngram_size=2,\n",
    "    temperature=0.7,\n",
    "    max_length=128\n",
    "):\n",
    "    input_ids = tokenizer(\n",
    "        f'paraphrase: {question}',\n",
    "        return_tensors=\"pt\", padding=\"longest\",\n",
    "        max_length=max_length,\n",
    "        truncation=True,\n",
    "    ).input_ids.to(device)\n",
    "    \n",
    "    outputs = model.generate(\n",
    "        input_ids, temperature=temperature, repetition_penalty=repetition_penalty,\n",
    "        num_return_sequences=num_return_sequences, no_repeat_ngram_size=no_repeat_ngram_size,\n",
    "        num_beams=num_beams, num_beam_groups=num_beam_groups,\n",
    "        max_length=max_length, diversity_penalty=diversity_penalty\n",
    "    )\n",
    "\n",
    "    res = tokenizer.batch_decode(outputs, skip_special_tokens=True)\n",
    "\n",
    "    return res\n"
   ]
  },
  {
   "cell_type": "code",
   "execution_count": 28,
   "metadata": {},
   "outputs": [
    {
     "name": "stdout",
     "output_type": "stream",
     "text": [
      "----------------------------------------------------------------------------------------------------\n",
      "Input_phrase:  He examined his habits to try and figure out the reason.\n",
      "----------------------------------------------------------------------------------------------------\n"
     ]
    },
    {
     "name": "stderr",
     "output_type": "stream",
     "text": [
      "/home/robin/env/paraphrase/lib/python3.9/site-packages/transformers/generation/configuration_utils.py:362: UserWarning: `do_sample` is set to `False`. However, `temperature` is set to `0.7` -- this flag is only used in sample-based generation modes. You should set `do_sample=True` or unset `temperature`.\n",
      "  warnings.warn(\n"
     ]
    },
    {
     "name": "stdout",
     "output_type": "stream",
     "text": [
      "He re-examined his habits to ascertain the cause.\n",
      "He scrutinized his behavior to ascertain the cause.\n",
      "In an effort to pinpoint the cause, he scrutinized his behavior.\n",
      "To determine the reason, he examined his habits.\n",
      "His behavior was scrutinized to determine the cause.\n",
      "----------------------------------------------------------------------------------------------------\n",
      "Input_phrase:  One day a guest made him very angry.\n",
      "----------------------------------------------------------------------------------------------------\n",
      "He was extremely angry with a guest on one occasion.\n",
      "A guest caused him to become extremely angry.\n",
      "An unexpected guest caused him to become extremely angry.\n",
      "One day, he was so upset by a guest that.\n",
      "On a particular day, he was infuriated by.\n"
     ]
    }
   ],
   "source": [
    "for phrase in phrases:\n",
    "  print(\"-\"*100)\n",
    "  print(\"Input_phrase: \", phrase)\n",
    "  print(\"-\"*100)\n",
    "  para_phrases = paraphrase(phrase)\n",
    "  \n",
    "  for para_phrase in para_phrases:\n",
    "    print(para_phrase)\n"
   ]
  },
  {
   "cell_type": "markdown",
   "metadata": {},
   "source": [
    "## From Databases to {QA} Semantic Parsers with Only Synthetic Training Data\n",
    "\n",
    "source: https://www.aclweb.org/anthology/2020.emnlp-main.31\n",
    "\n",
    "https://huggingface.co/stanford-oval/paraphraser-bart-large?text=He+examined+his+habits+to+try+and+figure+out+the+reason\n"
   ]
  }
 ],
 "metadata": {
  "kernelspec": {
   "display_name": "paraphrase",
   "language": "python",
   "name": "python3"
  },
  "language_info": {
   "codemirror_mode": {
    "name": "ipython",
    "version": 3
   },
   "file_extension": ".py",
   "mimetype": "text/x-python",
   "name": "python",
   "nbconvert_exporter": "python",
   "pygments_lexer": "ipython3",
   "version": "3.9.18"
  },
  "orig_nbformat": 4
 },
 "nbformat": 4,
 "nbformat_minor": 2
}
